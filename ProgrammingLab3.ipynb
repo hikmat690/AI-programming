{
  "nbformat": 4,
  "nbformat_minor": 0,
  "metadata": {
    "colab": {
      "provenance": [],
      "authorship_tag": "ABX9TyOSgsnMdL+IX0Xeo2b3HqCy",
      "include_colab_link": true
    },
    "kernelspec": {
      "name": "python3",
      "display_name": "Python 3"
    },
    "language_info": {
      "name": "python"
    }
  },
  "cells": [
    {
      "cell_type": "markdown",
      "metadata": {
        "id": "view-in-github",
        "colab_type": "text"
      },
      "source": [
        "<a href=\"https://colab.research.google.com/github/hikmat690/AI-programming/blob/main/ProgrammingLab3.ipynb\" target=\"_parent\"><img src=\"https://colab.research.google.com/assets/colab-badge.svg\" alt=\"Open In Colab\"/></a>"
      ]
    },
    {
      "cell_type": "code",
      "execution_count": null,
      "metadata": {
        "id": "sm4bNnaIawTZ"
      },
      "outputs": [],
      "source": [
        "# Define the Romanian cities graph based on the image\n",
        "graphmap = {\n",
        "    'Arad': ['Zerind', 'Sibiu', 'Timisoara'],\n",
        "    'Zerind': ['Oradea', 'Arad'],\n",
        "    'Oradea': ['Zerind', 'Sibiu'],\n",
        "    'Sibiu': ['Oradea', 'Fagaras', 'Rimnicu Vilcea', 'Arad'],\n",
        "    'Timisoara': ['Arad', 'Lugoj'],\n",
        "    'Lugoj': ['Timisoara', 'Mehadia'],\n",
        "    'Mehadia': ['Lugoj', 'Dobreta'],\n",
        "    'Dobreta': ['Mehadia', 'Craiova'],\n",
        "    'Craiova': ['Dobreta', 'Rimnicu Vilcea', 'Pitesti'],\n",
        "    'Rimnicu Vilcea': ['Sibiu', 'Pitesti', 'Craiova'],\n",
        "    'Fagaras': ['Sibiu', 'Bucharest'],\n",
        "    'Pitesti': ['Rimnicu Vilcea', 'Craiova', 'Bucharest'],\n",
        "    'Bucharest': ['Fagaras', 'Pitesti', 'Giurgiu', 'Urziceni'],\n",
        "    'Giurgiu': ['Bucharest'],\n",
        "    'Urziceni': ['Bucharest', 'Hirsova', 'Vaslui'],\n",
        "    'Hirsova': ['Urziceni', 'Eforie'],\n",
        "    'Eforie': ['Hirsova'],\n",
        "    'Vaslui': ['Urziceni', 'Iasi'],\n",
        "    'Iasi': ['Vaslui', 'Neamt'],\n",
        "    'Neamt': ['Iasi']\n",
        "}\n",
        "\n",
        "def citymap(graphmap,startcity,endcity):\n",
        "    opened=[startcity]\n",
        "    closed=[]\n",
        "    while opened:\n",
        "        node = opened.pop(0)\n",
        "        if node in endcity :\n",
        "            closed.append(node)\n",
        "            return closed\n",
        "        else:\n",
        "            opened = opened +[item for item in graphmap[node] if item not in opened and item not in closed]\n",
        "            closed.append(node)\n",
        "    return \"Goal not found \"\n",
        "\n",
        "\n",
        "def citymapdfs(graphmap,startcity,endcity):\n",
        "    opened=[startcity]\n",
        "    closed=[]\n",
        "    while opened:\n",
        "        node = opened.pop(0)\n",
        "        if node in endcity :\n",
        "            closed.append(node)\n",
        "            return closed\n",
        "        else:\n",
        "            opened = [item for item in graphmap[node] if item not in opened and item not in closed] +opened\n",
        "            closed.append(node)\n",
        "    return \"Goal not found \"\n",
        "\n",
        "startcity = input(\"Enter the start city \")\n",
        "endcity = input(\"Enter the end city \")\n",
        "\n",
        "if startcity not in graphmap or endcity not in graphmap:\n",
        "    print(\"enter correct city name \")\n",
        "else:\n",
        "    print(\"BFS \")\n",
        "    bfspath = citymap(graphmap,startcity,endcity)\n",
        "    print(bfspath)\n",
        "\n",
        "    print(\"DFS \")\n",
        "    bfspath = citymapdfs(graphmap,startcity,endcity)\n",
        "    print(bfspath)\n",
        "\n",
        "\n"
      ]
    }
  ]
}