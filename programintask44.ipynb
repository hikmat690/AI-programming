{
  "nbformat": 4,
  "nbformat_minor": 0,
  "metadata": {
    "colab": {
      "provenance": [],
      "include_colab_link": true
    },
    "kernelspec": {
      "name": "python3",
      "display_name": "Python 3"
    },
    "language_info": {
      "name": "python"
    }
  },
  "cells": [
    {
      "cell_type": "markdown",
      "metadata": {
        "id": "view-in-github",
        "colab_type": "text"
      },
      "source": [
        "<a href=\"https://colab.research.google.com/github/hikmat690/AI-programming/blob/main/programintask44.ipynb\" target=\"_parent\"><img src=\"https://colab.research.google.com/assets/colab-badge.svg\" alt=\"Open In Colab\"/></a>"
      ]
    },
    {
      "cell_type": "markdown",
      "source": [
        "1. Evaluate the whether the code of A* algorithm is giving correct output or not. Indentify the logical errors in the provided code.\n",
        "2. Convert the code into a more concise version by levereging the Python Programming contructs."
      ],
      "metadata": {
        "id": "p1wwL_YOL1S3"
      }
    },
    {
      "cell_type": "code",
      "execution_count": null,
      "metadata": {
        "id": "XLT0vwo2L0AP"
      },
      "outputs": [],
      "source": [
        "graph = {\n",
        "    'Arad': [['Zerind', 75, 374], ['Timisoara', 118, 329], ['Sibiu', 140, 253]],\n",
        "    'Zerind': [['Oradea', 71, 380], ['Arad', 75, 366]],\n",
        "    'Oradea': [['Zerind', 71, 374], ['Sibiu', 151, 253]],\n",
        "    'Sibiu': [['Rimniciu Vilcea', 80, 193], ['Fagaras', 99, 176], ['Arad', 140, 366], ['Oradea', 151, 380]],\n",
        "    'Fagaras': [['Sibiu', 99, 253], ['Bucharest', 211, 0]],\n",
        "    'Rimniciu Vilcea': [['Pitesti', 97, 100], ['Craiova', 146, 160], ['Sibiu', 80, 253]],\n",
        "    'Timisoara': [['Lugoj', 111, 244], ['Arad', 118, 366]],\n",
        "    'Lugoj': [['Mehadia', 70, 241], ['Timisoara', 111, 329]],\n",
        "    'Mehadia': [['Lugoj', 70, 244], ['Dobreta', 75, 242]],\n",
        "    'Dobreta': [['Mehadia', 75, 241], ['Craiova', 120, 160]],\n",
        "    'Pitesti': [['Craiova', 138, 160], ['Bucharest', 101, 0]],\n",
        "    'Craiova': [['Pitesti', 138, 100], ['Dobreta', 120, 242], ['Rimniciu Vilcea', 146, 193]],\n",
        "    'Bucharest': [['Giurgiu', 90, 77], ['Urziceni', 85, 80], ['Fagaras', 211, 176], ['Pitesti', 101, 100]],\n",
        "    'Giurgiu': [['Bucharest', 90, 0]],\n",
        "    'Urziceni': [['Vaslui', 142, 199], ['Hirsova', 98, 151], ['Bucharest', 85, 0]],\n",
        "    'Vaslui': [['Lasi', 92, 226], ['Urziceni', 142, 80]],\n",
        "    'Lasi': [['Neamt', 87, 234], ['Vaslui', 92, 199]],\n",
        "    'Neamt': [['Lasi', 87, 226]],\n",
        "    'Hirsova': [['Eforie', 86, 161], ['Urziceni', 98, 80]],\n",
        "    'Eforie': [['Hirsova', 86, 151]],\n",
        "}\n",
        "\n",
        "def astarik_traversal(graph, start, goal):\n",
        "    open = [start]\n",
        "    close = []\n",
        "    while open:\n",
        "        print('----------------------------------------')\n",
        "        current = open.pop(0)\n",
        "        print('current', current)\n",
        "        if current not in close:\n",
        "            close = close + [current]\n",
        "            print('close', close)\n",
        "\n",
        "        # Goal check inside the main loop\n",
        "        if current[0] == goal:\n",
        "            break\n",
        "\n",
        "        for node in graph[current[0]]:\n",
        "            print('node', node)\n",
        "            if node not in open and node not in close:\n",
        "                open = open + [[node[0], close[-1][1] + node[1], node[2]]]\n",
        "                print('open', open)\n",
        "        open.sort(key=lambda element: element[1] + element[2])\n",
        "        print('sortedopen', open)\n",
        "\n",
        "    return [a[0] for a in close]\n",
        "\n",
        "# Test the function\n",
        "print(astarik_traversal(graph, ['Arad', 0, 366], 'Bucharest'))"
      ]
    }
  ]
}